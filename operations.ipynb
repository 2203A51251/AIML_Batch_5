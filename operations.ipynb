{
 "cells": [
  {
   "cell_type": "code",
   "execution_count": 5,
   "metadata": {},
   "outputs": [
    {
     "name": "stdout",
     "output_type": "stream",
     "text": [
      "np.sin(90) = 1\n",
      "np.log(1) = 0.0\n",
      "np.log2(2) = 1.0\n",
      "np.exp(0) = 1.0\n"
     ]
    }
   ],
   "source": [
    "import numpy as np\n",
    "\n",
    "a = np.sin(90)\n",
    "b = np.log(1)\n",
    "c = np.log2(2)\n",
    "d = np.exp(0)\n",
    "\n",
    "print(\"np.sin(90) =\", round(a))\n",
    "print(\"np.log(1) =\", b)\n",
    "print(\"np.log2(2) =\", c)\n",
    "print(\"np.exp(0) =\", d)"
   ]
  }
 ],
 "metadata": {
  "kernelspec": {
   "display_name": "Python 3",
   "language": "python",
   "name": "python3"
  },
  "language_info": {
   "codemirror_mode": {
    "name": "ipython",
    "version": 3
   },
   "file_extension": ".py",
   "mimetype": "text/x-python",
   "name": "python",
   "nbconvert_exporter": "python",
   "pygments_lexer": "ipython3",
   "version": "3.10.13"
  }
 },
 "nbformat": 4,
 "nbformat_minor": 2
}
